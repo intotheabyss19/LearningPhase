{
 "cells": [
  {
   "cell_type": "code",
   "execution_count": 1,
   "id": "74fd7a52-a306-4d24-9f43-6647cd7ce9db",
   "metadata": {},
   "outputs": [],
   "source": [
    "import numpy as np\n",
    "import pandas as pd"
   ]
  },
  {
   "cell_type": "code",
   "execution_count": 2,
   "id": "15769877-7fee-4855-a8ad-3ec28ce2411a",
   "metadata": {},
   "outputs": [],
   "source": [
    "dict1 = {\n",
    "    \"name\":['harry', 'rohan', 'skillf', 'shubh'],\n",
    "    \"marks\":[92, 34, 24, 17],\n",
    "    \"city\":['rampur', 'kolkata', 'bareilly', 'antartica']\n",
    "}"
   ]
  },
  {
   "cell_type": "code",
   "execution_count": 3,
   "id": "efa2fbb6-af1f-4489-977b-d4610f4a5dba",
   "metadata": {},
   "outputs": [],
   "source": [
    "df = pd.DataFrame(dict1)"
   ]
  },
  {
   "cell_type": "code",
   "execution_count": 4,
   "id": "3468a337-cc3f-407b-a054-9e6b842c41b5",
   "metadata": {},
   "outputs": [
    {
     "data": {
      "text/html": [
       "<div>\n",
       "<style scoped>\n",
       "    .dataframe tbody tr th:only-of-type {\n",
       "        vertical-align: middle;\n",
       "    }\n",
       "\n",
       "    .dataframe tbody tr th {\n",
       "        vertical-align: top;\n",
       "    }\n",
       "\n",
       "    .dataframe thead th {\n",
       "        text-align: right;\n",
       "    }\n",
       "</style>\n",
       "<table border=\"1\" class=\"dataframe\">\n",
       "  <thead>\n",
       "    <tr style=\"text-align: right;\">\n",
       "      <th></th>\n",
       "      <th>name</th>\n",
       "      <th>marks</th>\n",
       "      <th>city</th>\n",
       "    </tr>\n",
       "  </thead>\n",
       "  <tbody>\n",
       "    <tr>\n",
       "      <th>0</th>\n",
       "      <td>harry</td>\n",
       "      <td>92</td>\n",
       "      <td>rampur</td>\n",
       "    </tr>\n",
       "    <tr>\n",
       "      <th>1</th>\n",
       "      <td>rohan</td>\n",
       "      <td>34</td>\n",
       "      <td>kolkata</td>\n",
       "    </tr>\n",
       "    <tr>\n",
       "      <th>2</th>\n",
       "      <td>skillf</td>\n",
       "      <td>24</td>\n",
       "      <td>bareilly</td>\n",
       "    </tr>\n",
       "    <tr>\n",
       "      <th>3</th>\n",
       "      <td>shubh</td>\n",
       "      <td>17</td>\n",
       "      <td>antartica</td>\n",
       "    </tr>\n",
       "  </tbody>\n",
       "</table>\n",
       "</div>"
      ],
      "text/plain": [
       "     name  marks       city\n",
       "0   harry     92     rampur\n",
       "1   rohan     34    kolkata\n",
       "2  skillf     24   bareilly\n",
       "3   shubh     17  antartica"
      ]
     },
     "execution_count": 4,
     "metadata": {},
     "output_type": "execute_result"
    }
   ],
   "source": [
    "df"
   ]
  },
  {
   "cell_type": "code",
   "execution_count": 5,
   "id": "a96b04d5-266b-4f8a-a1f7-d67aba3d010b",
   "metadata": {},
   "outputs": [],
   "source": [
    "df.to_csv('friends.csv')"
   ]
  },
  {
   "cell_type": "code",
   "execution_count": 10,
   "id": "20e83295-03c8-4bce-abcf-c5016c2683aa",
   "metadata": {},
   "outputs": [
    {
     "name": "stdout",
     "output_type": "stream",
     "text": [
      "1\n"
     ]
    }
   ],
   "source": [
    "print(1)"
   ]
  },
  {
   "cell_type": "code",
   "execution_count": 12,
   "id": "7403aae9-248c-475b-8e81-c94acfee40aa",
   "metadata": {},
   "outputs": [],
   "source": [
    "d2 = df[(df['name']=='harry') & (df['marks']==92)]"
   ]
  },
  {
   "cell_type": "code",
   "execution_count": 13,
   "id": "b7a1c4fa-44c2-4d1a-81ab-9111f70ab6e3",
   "metadata": {},
   "outputs": [
    {
     "name": "stdout",
     "output_type": "stream",
     "text": [
      "    name  marks    city\n",
      "0  harry     92  rampur\n"
     ]
    }
   ],
   "source": [
    "print(d2)"
   ]
  },
  {
   "cell_type": "code",
   "execution_count": 18,
   "id": "b89bfe1e-91f3-42ed-9876-047265fd5f66",
   "metadata": {},
   "outputs": [
    {
     "name": "stdout",
     "output_type": "stream",
     "text": [
      "    name  marks    city\n",
      "0  harry     92  rampur\n"
     ]
    }
   ],
   "source": [
    "print(df[(df['name'] == 'harry')])"
   ]
  },
  {
   "cell_type": "code",
   "execution_count": 24,
   "id": "7cb5efc3-e2a7-420e-aad1-1e2eb79906f7",
   "metadata": {},
   "outputs": [
    {
     "name": "stdout",
     "output_type": "stream",
     "text": [
      "Empty DataFrame\n",
      "Columns: [name, marks, city]\n",
      "Index: []\n"
     ]
    }
   ],
   "source": [
    "print(df[('arry' == df['name'])])"
   ]
  },
  {
   "cell_type": "code",
   "execution_count": null,
   "id": "206de8c0-2036-479f-a2ef-ba90dc045d98",
   "metadata": {},
   "outputs": [],
   "source": []
  }
 ],
 "metadata": {
  "kernelspec": {
   "display_name": "Python 3 (ipykernel)",
   "language": "python",
   "name": "python3"
  },
  "language_info": {
   "codemirror_mode": {
    "name": "ipython",
    "version": 3
   },
   "file_extension": ".py",
   "mimetype": "text/x-python",
   "name": "python",
   "nbconvert_exporter": "python",
   "pygments_lexer": "ipython3",
   "version": "3.13.1"
  }
 },
 "nbformat": 4,
 "nbformat_minor": 5
}
